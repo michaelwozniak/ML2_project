{
 "cells": [
  {
   "cell_type": "markdown",
   "metadata": {},
   "source": [
    "# Dependencies and notebook settings"
   ]
  },
  {
   "cell_type": "code",
   "execution_count": 1,
   "metadata": {
    "ExecuteTime": {
     "end_time": "2021-01-03T23:24:16.790973Z",
     "start_time": "2021-01-03T23:24:09.413372Z"
    }
   },
   "outputs": [
    {
     "data": {
      "text/html": [
       "<style>.container { width:90% !important; }</style>"
      ],
      "text/plain": [
       "<IPython.core.display.HTML object>"
      ]
     },
     "metadata": {},
     "output_type": "display_data"
    }
   ],
   "source": [
    "import pandas as pd\n",
    "import numpy as np\n",
    "import matplotlib as mpl\n",
    "import seaborn as sns\n",
    "import matplotlib.pyplot as plt\n",
    "import matplotlib.dates as mdates\n",
    "from statsmodels.graphics.tsaplots import plot_acf, plot_pacf\n",
    "import statsmodels.api as sm\n",
    "from tqdm import tqdm\n",
    "from IPython.core.display import display, HTML\n",
    "import ngboost\n",
    "import talib\n",
    "\n",
    "display(HTML(\"<style>.container { width:90% !important; }</style>\"))\n",
    "plt.style.use(\"ggplot\")\n",
    "mpl.rcParams[\"figure.dpi\"] = 100\n",
    "pd.set_option('display.max_columns', 500)\n",
    "# pd.set_option('display.max_rows', 500)"
   ]
  },
  {
   "cell_type": "markdown",
   "metadata": {},
   "source": [
    "# Data import and preparation"
   ]
  },
  {
   "cell_type": "code",
   "execution_count": 2,
   "metadata": {
    "ExecuteTime": {
     "end_time": "2021-01-03T23:24:16.838260Z",
     "start_time": "2021-01-03T23:24:16.792954Z"
    }
   },
   "outputs": [],
   "source": [
    "df = pd.read_csv(\n",
    "    \"../dataset/spx.csv\",\n",
    "    parse_dates=[\"Date\"],\n",
    "    names=[\"Date\", \"Open\", \"High\", \"Low\", \"Close\", \"Volume\"],\n",
    "    header=0,\n",
    "    index_col=\"Date\")\n",
    "df = df[df.index < \"2020-10-01\"]\n",
    "df[\"rr\"] = (np.log(df.Close) - np.log(df.Close.shift(1))) * 100\n",
    "df.dropna(inplace=True)"
   ]
  },
  {
   "cell_type": "markdown",
   "metadata": {},
   "source": [
    "# Feature engineering"
   ]
  },
  {
   "cell_type": "markdown",
   "metadata": {},
   "source": [
    "## Time variables"
   ]
  },
  {
   "cell_type": "code",
   "execution_count": 3,
   "metadata": {
    "ExecuteTime": {
     "end_time": "2021-01-03T23:24:16.870282Z",
     "start_time": "2021-01-03T23:24:16.840258Z"
    }
   },
   "outputs": [],
   "source": [
    "df[\"day_of_week\"] = df.index.dayofweek\n",
    "df[\"day_of_year\"] = df.index.dayofyear\n",
    "df[\"week\"] = df.index.week\n",
    "df[\"quarter\"] = df.index.quarter"
   ]
  },
  {
   "cell_type": "markdown",
   "metadata": {},
   "source": [
    "## Stationarization "
   ]
  },
  {
   "cell_type": "code",
   "execution_count": 4,
   "metadata": {
    "ExecuteTime": {
     "end_time": "2021-01-03T23:24:16.886275Z",
     "start_time": "2021-01-03T23:24:16.872289Z"
    }
   },
   "outputs": [],
   "source": [
    "df[\"Open_stationary\"] = df[\"Open\"].diff()\n",
    "df[\"High_stationary\"]= df[\"High\"].diff()\n",
    "df[\"Low_stationary\"]= df[\"Low\"].diff()\n",
    "df[\"Close_stationary\"]= df[\"Close\"].diff()"
   ]
  },
  {
   "cell_type": "markdown",
   "metadata": {
    "ExecuteTime": {
     "end_time": "2021-01-03T17:24:30.347647Z",
     "start_time": "2021-01-03T17:24:30.308650Z"
    }
   },
   "source": [
    "## Intra day relations"
   ]
  },
  {
   "cell_type": "code",
   "execution_count": 5,
   "metadata": {
    "ExecuteTime": {
     "end_time": "2021-01-03T23:24:16.902271Z",
     "start_time": "2021-01-03T23:24:16.887269Z"
    }
   },
   "outputs": [],
   "source": [
    "df[\"Close_minus_Open\"] = df[\"Close\"] - df[\"Open\"]\n",
    "df[\"High_minus_Low\"] = df[\"High\"] - df[\"Low\"]"
   ]
  },
  {
   "cell_type": "markdown",
   "metadata": {},
   "source": [
    "## Shallow technical analysis variables and ARMA proxy "
   ]
  },
  {
   "cell_type": "markdown",
   "metadata": {},
   "source": [
    "### Simple statistics "
   ]
  },
  {
   "cell_type": "code",
   "execution_count": 6,
   "metadata": {
    "ExecuteTime": {
     "end_time": "2021-01-03T23:24:16.934261Z",
     "start_time": "2021-01-03T23:24:16.904259Z"
    },
    "scrolled": false
   },
   "outputs": [],
   "source": [
    "df[\"MA\"] = talib.MA(df[\"rr\"], timeperiod=2)\n",
    "df[\"EMA\"] = talib.EMA(df[\"rr\"], timeperiod=2)\n",
    "df[\"STD\"] = talib.STDDEV(df[\"rr\"], timeperiod=2)\n",
    "df[\"MA_2\"] = talib.MA(df[\"rr\"], timeperiod=3)\n",
    "df[\"EMA_2\"] = talib.EMA(df[\"rr\"], timeperiod=3)\n",
    "df[\"STD_2\"] = talib.STDDEV(df[\"rr\"], timeperiod=3)\n",
    "df[\"MA_W\"] = talib.MA(df[\"rr\"], timeperiod=6)\n",
    "df[\"EMA_W\"] = talib.EMA(df[\"rr\"], timeperiod=6)\n",
    "df[\"STD_W\"] = talib.STDDEV(df[\"rr\"], timeperiod=6)"
   ]
  },
  {
   "cell_type": "markdown",
   "metadata": {},
   "source": [
    "### Volatility Indicators "
   ]
  },
  {
   "cell_type": "code",
   "execution_count": 7,
   "metadata": {
    "ExecuteTime": {
     "end_time": "2021-01-03T23:24:16.950248Z",
     "start_time": "2021-01-03T23:24:16.937240Z"
    }
   },
   "outputs": [],
   "source": [
    "df[\"ATR\"] = talib.ATR(df[\"High\"], df[\"Low\"], df[\"Close\"], timeperiod=7)\n",
    "df[\"TRANGE\"] = talib.TRANGE(df[\"High\"], df[\"Low\"], df[\"Close\"])"
   ]
  },
  {
   "cell_type": "markdown",
   "metadata": {},
   "source": [
    "### Volume Indicators "
   ]
  },
  {
   "cell_type": "code",
   "execution_count": 8,
   "metadata": {
    "ExecuteTime": {
     "end_time": "2021-01-03T23:24:16.966234Z",
     "start_time": "2021-01-03T23:24:16.952250Z"
    }
   },
   "outputs": [],
   "source": [
    "df[\"OBV\"] = talib.OBV(df[\"Close\"],df[\"Volume\"])\n",
    "df[\"ADOSC\"] = talib.ADOSC(df[\"High\"], df[\"Low\"], df[\"Close\"], df[\"Volume\"])"
   ]
  },
  {
   "cell_type": "markdown",
   "metadata": {},
   "source": [
    "## Dataset cleaning "
   ]
  },
  {
   "cell_type": "code",
   "execution_count": 9,
   "metadata": {
    "ExecuteTime": {
     "end_time": "2021-01-03T23:24:16.982229Z",
     "start_time": "2021-01-03T23:24:16.968222Z"
    }
   },
   "outputs": [
    {
     "data": {
      "text/plain": [
       "Index(['Open', 'High', 'Low', 'Close', 'Volume', 'rr', 'day_of_week',\n",
       "       'day_of_year', 'week', 'quarter', 'Open_stationary', 'High_stationary',\n",
       "       'Low_stationary', 'Close_stationary', 'Close_minus_Open',\n",
       "       'High_minus_Low', 'MA', 'EMA', 'STD', 'MA_2', 'EMA_2', 'STD_2', 'MA_W',\n",
       "       'EMA_W', 'STD_W', 'ATR', 'TRANGE', 'OBV', 'ADOSC'],\n",
       "      dtype='object')"
      ]
     },
     "execution_count": 9,
     "metadata": {},
     "output_type": "execute_result"
    }
   ],
   "source": [
    "df.columns"
   ]
  },
  {
   "cell_type": "code",
   "execution_count": 10,
   "metadata": {
    "ExecuteTime": {
     "end_time": "2021-01-03T23:24:16.998219Z",
     "start_time": "2021-01-03T23:24:16.984214Z"
    }
   },
   "outputs": [],
   "source": [
    "df = df[['rr', 'day_of_week','day_of_year', 'week', 'quarter', \n",
    "         'Volume','Open_stationary', 'High_stationary',\n",
    "       'Low_stationary', 'Close_stationary', 'Close_minus_Open',\n",
    "       'High_minus_Low', 'MA', 'EMA', 'STD', 'MA_2', 'EMA_2', 'STD_2', 'MA_W',\n",
    "       'EMA_W', 'STD_W', 'ATR', 'TRANGE', 'OBV', 'ADOSC']]"
   ]
  },
  {
   "cell_type": "markdown",
   "metadata": {},
   "source": [
    "## Variables lagging/shifting"
   ]
  },
  {
   "cell_type": "code",
   "execution_count": 11,
   "metadata": {
    "ExecuteTime": {
     "end_time": "2021-01-03T23:24:17.371241Z",
     "start_time": "2021-01-03T23:24:17.000205Z"
    }
   },
   "outputs": [],
   "source": [
    "to_lag = ['rr', 'Volume', 'Open_stationary', 'High_stationary', 'Low_stationary','Close_stationary', \n",
    "          'Close_minus_Open', 'High_minus_Low', 'MA', 'EMA',  'STD', 'MA_2', 'EMA_2', 'STD_2', 'MA_W', 'EMA_W', \n",
    "          'STD_W', 'ATR', 'TRANGE', 'OBV', 'ADOSC']\n",
    "\n",
    "for i in to_lag:\n",
    "    for j in range(1,11):\n",
    "        col_name = i + \"_L\" + str(j)\n",
    "        df[col_name] = df[i].shift(j)\n",
    "    if i != \"rr\":\n",
    "        df.drop(columns = [i], inplace=True)"
   ]
  },
  {
   "cell_type": "code",
   "execution_count": 14,
   "metadata": {
    "ExecuteTime": {
     "end_time": "2021-01-03T23:27:09.643583Z",
     "start_time": "2021-01-03T23:27:09.636572Z"
    }
   },
   "outputs": [
    {
     "data": {
      "text/plain": [
       "(7664, 215)"
      ]
     },
     "execution_count": 14,
     "metadata": {},
     "output_type": "execute_result"
    }
   ],
   "source": [
    "df.shape"
   ]
  },
  {
   "cell_type": "markdown",
   "metadata": {},
   "source": [
    "# Feature selection using XAI methods"
   ]
  },
  {
   "cell_type": "code",
   "execution_count": null,
   "metadata": {},
   "outputs": [],
   "source": []
  },
  {
   "cell_type": "code",
   "execution_count": null,
   "metadata": {},
   "outputs": [],
   "source": []
  },
  {
   "cell_type": "code",
   "execution_count": null,
   "metadata": {},
   "outputs": [],
   "source": []
  }
 ],
 "metadata": {
  "kernelspec": {
   "display_name": "Python 3",
   "language": "python",
   "name": "python3"
  },
  "language_info": {
   "codemirror_mode": {
    "name": "ipython",
    "version": 3
   },
   "file_extension": ".py",
   "mimetype": "text/x-python",
   "name": "python",
   "nbconvert_exporter": "python",
   "pygments_lexer": "ipython3",
   "version": "3.7.3"
  },
  "toc": {
   "base_numbering": 1,
   "nav_menu": {},
   "number_sections": true,
   "sideBar": true,
   "skip_h1_title": false,
   "title_cell": "Table of Contents",
   "title_sidebar": "Contents",
   "toc_cell": false,
   "toc_position": {},
   "toc_section_display": true,
   "toc_window_display": false
  }
 },
 "nbformat": 4,
 "nbformat_minor": 4
}
