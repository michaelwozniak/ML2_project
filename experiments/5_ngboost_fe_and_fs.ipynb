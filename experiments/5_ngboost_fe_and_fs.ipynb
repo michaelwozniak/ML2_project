{
 "cells": [
  {
   "cell_type": "markdown",
   "metadata": {},
   "source": [
    "# Dependencies and notebook settings"
   ]
  },
  {
   "cell_type": "code",
   "execution_count": 90,
   "metadata": {
    "ExecuteTime": {
     "end_time": "2021-01-06T11:16:28.568986Z",
     "start_time": "2021-01-06T11:16:28.556994Z"
    }
   },
   "outputs": [
    {
     "data": {
      "text/html": [
       "<style>.container { width:90% !important; }</style>"
      ],
      "text/plain": [
       "<IPython.core.display.HTML object>"
      ]
     },
     "metadata": {},
     "output_type": "display_data"
    }
   ],
   "source": [
    "import pandas as pd\n",
    "import numpy as np\n",
    "import matplotlib as mpl\n",
    "import seaborn as sns\n",
    "import matplotlib.pyplot as plt\n",
    "import matplotlib.dates as mdates\n",
    "from statsmodels.graphics.tsaplots import plot_acf, plot_pacf\n",
    "import statsmodels.api as sm\n",
    "from tqdm import tqdm\n",
    "from IPython.core.display import display, HTML\n",
    "import ngboost\n",
    "import talib\n",
    "from sklearn.tree import DecisionTreeRegressor\n",
    "\n",
    "display(HTML(\"<style>.container { width:90% !important; }</style>\"))\n",
    "plt.style.use(\"ggplot\")\n",
    "mpl.rcParams[\"figure.dpi\"] = 100\n",
    "pd.set_option('display.max_columns', 500)\n",
    "pd.set_option('display.max_rows', 100)"
   ]
  },
  {
   "cell_type": "markdown",
   "metadata": {},
   "source": [
    "# Data import and preparation"
   ]
  },
  {
   "cell_type": "code",
   "execution_count": 91,
   "metadata": {
    "ExecuteTime": {
     "end_time": "2021-01-06T11:16:29.135672Z",
     "start_time": "2021-01-06T11:16:29.097713Z"
    }
   },
   "outputs": [],
   "source": [
    "df = pd.read_csv(\n",
    "    \"../dataset/spx.csv\",\n",
    "    parse_dates=[\"Date\"],\n",
    "    names=[\"Date\", \"Open\", \"High\", \"Low\", \"Close\", \"Volume\"],\n",
    "    header=0,\n",
    "    index_col=\"Date\")\n",
    "df = df[df.index < \"2020-10-01\"]\n",
    "df[\"rr\"] = (np.log(df.Close) - np.log(df.Close.shift(1))) * 100\n",
    "df.dropna(inplace=True)"
   ]
  },
  {
   "cell_type": "markdown",
   "metadata": {},
   "source": [
    "# Feature engineering"
   ]
  },
  {
   "cell_type": "markdown",
   "metadata": {},
   "source": [
    "## Time variables"
   ]
  },
  {
   "cell_type": "code",
   "execution_count": 92,
   "metadata": {
    "ExecuteTime": {
     "end_time": "2021-01-06T11:16:30.131592Z",
     "start_time": "2021-01-06T11:16:30.106588Z"
    }
   },
   "outputs": [],
   "source": [
    "df[\"day_of_week\"] = df.index.dayofweek\n",
    "df[\"day_of_year\"] = df.index.dayofyear\n",
    "df[\"week\"] = df.index.week\n",
    "df[\"quarter\"] = df.index.quarter"
   ]
  },
  {
   "cell_type": "markdown",
   "metadata": {},
   "source": [
    "## Stationarization "
   ]
  },
  {
   "cell_type": "code",
   "execution_count": 93,
   "metadata": {
    "ExecuteTime": {
     "end_time": "2021-01-06T11:16:30.772466Z",
     "start_time": "2021-01-06T11:16:30.756462Z"
    }
   },
   "outputs": [],
   "source": [
    "df[\"Open_stationary\"] = df[\"Open\"].diff()\n",
    "df[\"High_stationary\"]= df[\"High\"].diff()\n",
    "df[\"Low_stationary\"]= df[\"Low\"].diff()\n",
    "df[\"Close_stationary\"]= df[\"Close\"].diff()"
   ]
  },
  {
   "cell_type": "markdown",
   "metadata": {
    "ExecuteTime": {
     "end_time": "2021-01-03T17:24:30.347647Z",
     "start_time": "2021-01-03T17:24:30.308650Z"
    }
   },
   "source": [
    "## Intra day relations"
   ]
  },
  {
   "cell_type": "code",
   "execution_count": 94,
   "metadata": {
    "ExecuteTime": {
     "end_time": "2021-01-06T11:16:31.368901Z",
     "start_time": "2021-01-06T11:16:31.360906Z"
    }
   },
   "outputs": [],
   "source": [
    "df[\"Close_minus_Open\"] = df[\"Close\"] - df[\"Open\"]\n",
    "df[\"High_minus_Low\"] = df[\"High\"] - df[\"Low\"]"
   ]
  },
  {
   "cell_type": "markdown",
   "metadata": {},
   "source": [
    "## Shallow technical analysis variables and ARMA proxy "
   ]
  },
  {
   "cell_type": "markdown",
   "metadata": {},
   "source": [
    "### Simple statistics "
   ]
  },
  {
   "cell_type": "code",
   "execution_count": 95,
   "metadata": {
    "ExecuteTime": {
     "end_time": "2021-01-06T11:16:32.213559Z",
     "start_time": "2021-01-06T11:16:32.194584Z"
    },
    "scrolled": false
   },
   "outputs": [],
   "source": [
    "df[\"MA\"] = talib.MA(df[\"rr\"], timeperiod=2)\n",
    "df[\"EMA\"] = talib.EMA(df[\"rr\"], timeperiod=2)\n",
    "df[\"STD\"] = talib.STDDEV(df[\"rr\"], timeperiod=2)\n",
    "df[\"MA_2\"] = talib.MA(df[\"rr\"], timeperiod=3)\n",
    "df[\"EMA_2\"] = talib.EMA(df[\"rr\"], timeperiod=3)\n",
    "df[\"STD_2\"] = talib.STDDEV(df[\"rr\"], timeperiod=3)\n",
    "df[\"MA_W\"] = talib.MA(df[\"rr\"], timeperiod=6)\n",
    "df[\"EMA_W\"] = talib.EMA(df[\"rr\"], timeperiod=6)\n",
    "df[\"STD_W\"] = talib.STDDEV(df[\"rr\"], timeperiod=6)"
   ]
  },
  {
   "cell_type": "markdown",
   "metadata": {},
   "source": [
    "### Volatility Indicators "
   ]
  },
  {
   "cell_type": "code",
   "execution_count": 96,
   "metadata": {
    "ExecuteTime": {
     "end_time": "2021-01-06T11:16:32.852934Z",
     "start_time": "2021-01-06T11:16:32.832928Z"
    }
   },
   "outputs": [],
   "source": [
    "df[\"ATR\"] = talib.ATR(df[\"High\"], df[\"Low\"], df[\"Close\"], timeperiod=7)\n",
    "df[\"TRANGE\"] = talib.TRANGE(df[\"High\"], df[\"Low\"], df[\"Close\"])"
   ]
  },
  {
   "cell_type": "markdown",
   "metadata": {},
   "source": [
    "### Volume Indicators "
   ]
  },
  {
   "cell_type": "code",
   "execution_count": 97,
   "metadata": {
    "ExecuteTime": {
     "end_time": "2021-01-06T11:16:33.275634Z",
     "start_time": "2021-01-06T11:16:33.263628Z"
    }
   },
   "outputs": [],
   "source": [
    "df[\"OBV\"] = talib.OBV(df[\"Close\"],df[\"Volume\"])\n",
    "df[\"ADOSC\"] = talib.ADOSC(df[\"High\"], df[\"Low\"], df[\"Close\"], df[\"Volume\"])"
   ]
  },
  {
   "cell_type": "markdown",
   "metadata": {},
   "source": [
    "## Dataset cleaning "
   ]
  },
  {
   "cell_type": "code",
   "execution_count": 98,
   "metadata": {
    "ExecuteTime": {
     "end_time": "2021-01-06T11:16:34.202786Z",
     "start_time": "2021-01-06T11:16:34.195790Z"
    }
   },
   "outputs": [
    {
     "data": {
      "text/plain": [
       "Index(['Open', 'High', 'Low', 'Close', 'Volume', 'rr', 'day_of_week',\n",
       "       'day_of_year', 'week', 'quarter', 'Open_stationary', 'High_stationary',\n",
       "       'Low_stationary', 'Close_stationary', 'Close_minus_Open',\n",
       "       'High_minus_Low', 'MA', 'EMA', 'STD', 'MA_2', 'EMA_2', 'STD_2', 'MA_W',\n",
       "       'EMA_W', 'STD_W', 'ATR', 'TRANGE', 'OBV', 'ADOSC'],\n",
       "      dtype='object')"
      ]
     },
     "execution_count": 98,
     "metadata": {},
     "output_type": "execute_result"
    }
   ],
   "source": [
    "df.columns"
   ]
  },
  {
   "cell_type": "code",
   "execution_count": 99,
   "metadata": {
    "ExecuteTime": {
     "end_time": "2021-01-06T11:16:34.626915Z",
     "start_time": "2021-01-06T11:16:34.612913Z"
    }
   },
   "outputs": [],
   "source": [
    "df = df[['rr', 'day_of_week','day_of_year', 'week', 'quarter', \n",
    "         'Volume','Open_stationary', 'High_stationary',\n",
    "       'Low_stationary', 'Close_stationary', 'Close_minus_Open',\n",
    "       'High_minus_Low', 'MA', 'EMA', 'STD', 'MA_2', 'EMA_2', 'STD_2', 'MA_W',\n",
    "       'EMA_W', 'STD_W', 'ATR', 'TRANGE', 'OBV', 'ADOSC']]"
   ]
  },
  {
   "cell_type": "markdown",
   "metadata": {},
   "source": [
    "## Variables lagging/shifting"
   ]
  },
  {
   "cell_type": "code",
   "execution_count": 100,
   "metadata": {
    "ExecuteTime": {
     "end_time": "2021-01-06T11:16:36.171530Z",
     "start_time": "2021-01-06T11:16:36.026270Z"
    }
   },
   "outputs": [],
   "source": [
    "to_lag = ['rr', 'Volume', 'Open_stationary', 'High_stationary', 'Low_stationary','Close_stationary', \n",
    "          'Close_minus_Open', 'High_minus_Low', 'MA', 'EMA',  'STD', 'MA_2', 'EMA_2', 'STD_2', 'MA_W', 'EMA_W', \n",
    "          'STD_W', 'ATR', 'TRANGE', 'OBV', 'ADOSC']\n",
    "\n",
    "for i in to_lag:\n",
    "    for j in range(1,4):\n",
    "        col_name = i + \"_L\" + str(j)\n",
    "        df[col_name] = df[i].shift(j)\n",
    "    if i != \"rr\":\n",
    "        df.drop(columns = [i], inplace=True)"
   ]
  },
  {
   "cell_type": "code",
   "execution_count": 101,
   "metadata": {
    "ExecuteTime": {
     "end_time": "2021-01-06T11:16:36.938256Z",
     "start_time": "2021-01-06T11:16:36.933260Z"
    }
   },
   "outputs": [
    {
     "data": {
      "text/plain": [
       "(7664, 68)"
      ]
     },
     "execution_count": 101,
     "metadata": {},
     "output_type": "execute_result"
    }
   ],
   "source": [
    "df.shape"
   ]
  },
  {
   "cell_type": "code",
   "execution_count": 13,
   "metadata": {
    "ExecuteTime": {
     "end_time": "2021-01-04T00:32:24.826613Z",
     "start_time": "2021-01-04T00:32:24.812608Z"
    }
   },
   "outputs": [],
   "source": [
    "features = set(df.columns)\n",
    "features.remove(\"rr\")"
   ]
  },
  {
   "cell_type": "markdown",
   "metadata": {},
   "source": [
    "# Feature selection using tree-based feature selection"
   ]
  },
  {
   "cell_type": "markdown",
   "metadata": {},
   "source": [
    "To understand my feature selection procedure it is necessary to know that: \"NGBoost does provide methods to interpret models fit with regression tree base learners. Since each parameter in the distribution is fit by a separate sequence of learners, there will be multiple model interpretation results, one for each parameter. The default distribution used is Normal so the following example shows results for the loc and scale parameters.\" [source](https://stanfordmlgroup.github.io/ngboost/3-interpretation.html)\n",
    "\n",
    "Taking above into consideration I will assume that my default NGBoost model (during next modeling steps I will tune this parameters but now I will fix them) model consists of: \n",
    "* Normal distribution as the output distribution\n",
    "* 3-depth Decision Tree as the base learner\n",
    "* 500 iterations as the number of boosting iterations\n",
    "* 0.01 learning rate\n",
    "* negative log likelihood score as scoring function\n",
    "\n",
    "My procedure is as follows: for each training-validation period I will compute feature importance for both distribution parameters (loc, scale) and then their average value. Then I will compute overall mean value based on output from 3 available training-validation periods. Finally I decided expertly I will choose final features based on threshold for final average feature importance which is equal to 25.  "
   ]
  },
  {
   "cell_type": "code",
   "execution_count": 62,
   "metadata": {
    "ExecuteTime": {
     "end_time": "2021-01-06T10:32:54.579901Z",
     "start_time": "2021-01-06T10:32:54.560913Z"
    }
   },
   "outputs": [],
   "source": [
    "starts = [\"2006-01-12\", \"2008-01-15\", \"2014-01-13\"]"
   ]
  },
  {
   "cell_type": "markdown",
   "metadata": {},
   "source": [
    "## Training-validation period 1"
   ]
  },
  {
   "cell_type": "code",
   "execution_count": 15,
   "metadata": {
    "ExecuteTime": {
     "end_time": "2021-01-04T01:38:14.175742Z",
     "start_time": "2021-01-04T00:32:24.844590Z"
    }
   },
   "outputs": [
    {
     "name": "stderr",
     "output_type": "stream",
     "text": [
      "100%|██████████████████████████████████████████████████████████████████████████████| 252/252 [1:05:49<00:00, 15.67s/it]\n"
     ]
    }
   ],
   "source": [
    "loc_list = list()\n",
    "scale_list = list()\n",
    "\n",
    "start = starts[0]\n",
    "df_tmp = df.loc[start:].head(252 * 4).copy()\n",
    "\n",
    "for i in tqdm(range(0, 252)):\n",
    "    train = df_tmp.iloc[i : i + 252 * 3].copy()\n",
    "    ngb = ngboost.NGBRegressor(\n",
    "        Dist=ngboost.distns.Normal,\n",
    "        Score=ngboost.scores.LogScore,\n",
    "        Base=DecisionTreeRegressor(criterion=\"friedman_mse\", max_depth=3),\n",
    "        n_estimators=500,\n",
    "        learning_rate=0.01,\n",
    "        minibatch_frac=1.0,\n",
    "        col_sample=1.0,\n",
    "        verbose=False,\n",
    "        verbose_eval=500,\n",
    "        tol=0.0001,\n",
    "        random_state=2021)\n",
    "    ngb.fit(train[features], train.rr)\n",
    "    \n",
    "    feature_importance_loc = ngb.feature_importances_[0]\n",
    "    feature_importance_scale = ngb.feature_importances_[1]\n",
    "    df_loc = pd.DataFrame({'feature':list(features),\n",
    "                           'importance':feature_importance_loc}).sort_values('importance',ascending=False)\n",
    "    df_scale = pd.DataFrame({'feature':list(features),\n",
    "                           'importance':feature_importance_scale}).sort_values('importance',ascending=False)    \n",
    "    df_loc[\"index\"] = np.arange(1,68)\n",
    "    df_loc.drop(columns=[\"importance\"], inplace=True)\n",
    "    df_scale[\"index\"] = np.arange(1,68)\n",
    "    df_scale.drop(columns=[\"importance\"], inplace=True)\n",
    "    loc_list.append(df_loc)\n",
    "    scale_list.append(df_scale)\n",
    "\n",
    "loc_df1 = pd.concat(loc_list)\n",
    "scale_df1 = pd.concat(scale_list)"
   ]
  },
  {
   "cell_type": "code",
   "execution_count": 44,
   "metadata": {
    "ExecuteTime": {
     "end_time": "2021-01-06T09:47:37.612673Z",
     "start_time": "2021-01-06T09:47:37.550008Z"
    }
   },
   "outputs": [],
   "source": [
    "loc_df1_gb = loc_df1.groupby(\"feature\").mean().sort_values(\"index\").reset_index()\n",
    "scale_df1_gb = scale_df1.groupby(\"feature\").mean().sort_values(\"index\").reset_index()\n",
    "df1_gb = pd.merge(loc_df1_gb, scale_df1_gb, on=\"feature\")\n",
    "df1_gb[\"mean_indexes\"] = (df1_gb.index_x + df1_gb.index_y)/2\n",
    "df1_gb.sort_values(\"mean_indexes\", inplace=True)"
   ]
  },
  {
   "cell_type": "code",
   "execution_count": 49,
   "metadata": {
    "ExecuteTime": {
     "end_time": "2021-01-06T09:49:13.546224Z",
     "start_time": "2021-01-06T09:49:13.528376Z"
    }
   },
   "outputs": [
    {
     "data": {
      "text/html": [
       "<div>\n",
       "<style scoped>\n",
       "    .dataframe tbody tr th:only-of-type {\n",
       "        vertical-align: middle;\n",
       "    }\n",
       "\n",
       "    .dataframe tbody tr th {\n",
       "        vertical-align: top;\n",
       "    }\n",
       "\n",
       "    .dataframe thead th {\n",
       "        text-align: right;\n",
       "    }\n",
       "</style>\n",
       "<table border=\"1\" class=\"dataframe\">\n",
       "  <thead>\n",
       "    <tr style=\"text-align: right;\">\n",
       "      <th></th>\n",
       "      <th>feature</th>\n",
       "      <th>index_x</th>\n",
       "      <th>index_y</th>\n",
       "      <th>mean_indexes</th>\n",
       "    </tr>\n",
       "  </thead>\n",
       "  <tbody>\n",
       "    <tr>\n",
       "      <th>4</th>\n",
       "      <td>Volume_L1</td>\n",
       "      <td>5.055556</td>\n",
       "      <td>6.579365</td>\n",
       "      <td>5.817460</td>\n",
       "    </tr>\n",
       "    <tr>\n",
       "      <th>3</th>\n",
       "      <td>MA_2_L3</td>\n",
       "      <td>4.892857</td>\n",
       "      <td>20.801587</td>\n",
       "      <td>12.847222</td>\n",
       "    </tr>\n",
       "    <tr>\n",
       "      <th>5</th>\n",
       "      <td>OBV_L1</td>\n",
       "      <td>6.952381</td>\n",
       "      <td>19.634921</td>\n",
       "      <td>13.293651</td>\n",
       "    </tr>\n",
       "    <tr>\n",
       "      <th>1</th>\n",
       "      <td>EMA_W_L2</td>\n",
       "      <td>3.349206</td>\n",
       "      <td>25.543651</td>\n",
       "      <td>14.446429</td>\n",
       "    </tr>\n",
       "    <tr>\n",
       "      <th>16</th>\n",
       "      <td>Volume_L2</td>\n",
       "      <td>21.317460</td>\n",
       "      <td>8.960317</td>\n",
       "      <td>15.138889</td>\n",
       "    </tr>\n",
       "    <tr>\n",
       "      <th>13</th>\n",
       "      <td>STD_L3</td>\n",
       "      <td>15.408730</td>\n",
       "      <td>14.932540</td>\n",
       "      <td>15.170635</td>\n",
       "    </tr>\n",
       "    <tr>\n",
       "      <th>19</th>\n",
       "      <td>EMA_L1</td>\n",
       "      <td>24.579365</td>\n",
       "      <td>6.023810</td>\n",
       "      <td>15.301587</td>\n",
       "    </tr>\n",
       "    <tr>\n",
       "      <th>15</th>\n",
       "      <td>STD_W_L2</td>\n",
       "      <td>18.206349</td>\n",
       "      <td>12.611111</td>\n",
       "      <td>15.408730</td>\n",
       "    </tr>\n",
       "    <tr>\n",
       "      <th>14</th>\n",
       "      <td>Volume_L3</td>\n",
       "      <td>15.829365</td>\n",
       "      <td>16.932540</td>\n",
       "      <td>16.380952</td>\n",
       "    </tr>\n",
       "    <tr>\n",
       "      <th>0</th>\n",
       "      <td>Open_stationary_L3</td>\n",
       "      <td>2.456349</td>\n",
       "      <td>33.281746</td>\n",
       "      <td>17.869048</td>\n",
       "    </tr>\n",
       "  </tbody>\n",
       "</table>\n",
       "</div>"
      ],
      "text/plain": [
       "               feature    index_x    index_y  mean_indexes\n",
       "4            Volume_L1   5.055556   6.579365      5.817460\n",
       "3              MA_2_L3   4.892857  20.801587     12.847222\n",
       "5               OBV_L1   6.952381  19.634921     13.293651\n",
       "1             EMA_W_L2   3.349206  25.543651     14.446429\n",
       "16           Volume_L2  21.317460   8.960317     15.138889\n",
       "13              STD_L3  15.408730  14.932540     15.170635\n",
       "19              EMA_L1  24.579365   6.023810     15.301587\n",
       "15            STD_W_L2  18.206349  12.611111     15.408730\n",
       "14           Volume_L3  15.829365  16.932540     16.380952\n",
       "0   Open_stationary_L3   2.456349  33.281746     17.869048"
      ]
     },
     "execution_count": 49,
     "metadata": {},
     "output_type": "execute_result"
    }
   ],
   "source": [
    "df1_gb.head(10)"
   ]
  },
  {
   "cell_type": "markdown",
   "metadata": {},
   "source": [
    "## Training-validation period 2"
   ]
  },
  {
   "cell_type": "code",
   "execution_count": 16,
   "metadata": {
    "ExecuteTime": {
     "end_time": "2021-01-04T03:47:22.791303Z",
     "start_time": "2021-01-04T02:42:39.709035Z"
    }
   },
   "outputs": [
    {
     "name": "stderr",
     "output_type": "stream",
     "text": [
      "100%|██████████████████████████████████████████████████████████████████████████████| 252/252 [1:04:25<00:00, 15.34s/it]\n"
     ]
    }
   ],
   "source": [
    "loc_list = list()\n",
    "scale_list = list()\n",
    "\n",
    "start = starts[1]\n",
    "df_tmp = df.loc[start:].head(252 * 4).copy()\n",
    "\n",
    "for i in tqdm(range(0, 252)):\n",
    "    train = df_tmp.iloc[i : i + 252 * 3].copy()\n",
    "    ngb = ngboost.NGBRegressor(\n",
    "        Dist=ngboost.distns.Normal,\n",
    "        Score=ngboost.scores.LogScore,\n",
    "        Base=DecisionTreeRegressor(criterion=\"friedman_mse\", max_depth=3),\n",
    "        n_estimators=500,\n",
    "        learning_rate=0.01,\n",
    "        minibatch_frac=1.0,\n",
    "        col_sample=1.0,\n",
    "        verbose=False,\n",
    "        verbose_eval=500,\n",
    "        tol=0.0001,\n",
    "        random_state=2021)\n",
    "    ngb.fit(train[features], train.rr)\n",
    "    \n",
    "    feature_importance_loc = ngb.feature_importances_[0]\n",
    "    feature_importance_scale = ngb.feature_importances_[1]\n",
    "    df_loc = pd.DataFrame({'feature':list(features),\n",
    "                           'importance':feature_importance_loc}).sort_values('importance',ascending=False)\n",
    "    df_scale = pd.DataFrame({'feature':list(features),\n",
    "                           'importance':feature_importance_scale}).sort_values('importance',ascending=False)    \n",
    "    df_loc[\"index\"] = np.arange(1,68)\n",
    "    df_loc.drop(columns=[\"importance\"], inplace=True)\n",
    "    df_scale[\"index\"] = np.arange(1,68)\n",
    "    df_scale.drop(columns=[\"importance\"], inplace=True)\n",
    "    loc_list.append(df_loc)\n",
    "    scale_list.append(df_scale)\n",
    "\n",
    "loc_df2 = pd.concat(loc_list)\n",
    "scale_df2 = pd.concat(scale_list)"
   ]
  },
  {
   "cell_type": "code",
   "execution_count": 45,
   "metadata": {
    "ExecuteTime": {
     "end_time": "2021-01-06T09:48:41.173876Z",
     "start_time": "2021-01-06T09:48:41.143894Z"
    }
   },
   "outputs": [],
   "source": [
    "loc_df2_gb = loc_df2.groupby(\"feature\").mean().sort_values(\"index\").reset_index()\n",
    "scale_df2_gb = scale_df2.groupby(\"feature\").mean().sort_values(\"index\").reset_index()\n",
    "df2_gb = pd.merge(loc_df2_gb, scale_df2_gb, on=\"feature\")\n",
    "df2_gb[\"mean_indexes\"] = (df2_gb.index_x + df2_gb.index_y)/2\n",
    "df2_gb.sort_values(\"mean_indexes\", inplace=True)"
   ]
  },
  {
   "cell_type": "code",
   "execution_count": 50,
   "metadata": {
    "ExecuteTime": {
     "end_time": "2021-01-06T09:49:25.593269Z",
     "start_time": "2021-01-06T09:49:25.575280Z"
    }
   },
   "outputs": [
    {
     "data": {
      "text/html": [
       "<div>\n",
       "<style scoped>\n",
       "    .dataframe tbody tr th:only-of-type {\n",
       "        vertical-align: middle;\n",
       "    }\n",
       "\n",
       "    .dataframe tbody tr th {\n",
       "        vertical-align: top;\n",
       "    }\n",
       "\n",
       "    .dataframe thead th {\n",
       "        text-align: right;\n",
       "    }\n",
       "</style>\n",
       "<table border=\"1\" class=\"dataframe\">\n",
       "  <thead>\n",
       "    <tr style=\"text-align: right;\">\n",
       "      <th></th>\n",
       "      <th>feature</th>\n",
       "      <th>index_x</th>\n",
       "      <th>index_y</th>\n",
       "      <th>mean_indexes</th>\n",
       "    </tr>\n",
       "  </thead>\n",
       "  <tbody>\n",
       "    <tr>\n",
       "      <th>3</th>\n",
       "      <td>Volume_L1</td>\n",
       "      <td>8.476190</td>\n",
       "      <td>14.075397</td>\n",
       "      <td>11.275794</td>\n",
       "    </tr>\n",
       "    <tr>\n",
       "      <th>6</th>\n",
       "      <td>MA_W_L3</td>\n",
       "      <td>10.388889</td>\n",
       "      <td>12.329365</td>\n",
       "      <td>11.359127</td>\n",
       "    </tr>\n",
       "    <tr>\n",
       "      <th>12</th>\n",
       "      <td>TRANGE_L3</td>\n",
       "      <td>18.480159</td>\n",
       "      <td>9.337302</td>\n",
       "      <td>13.908730</td>\n",
       "    </tr>\n",
       "    <tr>\n",
       "      <th>14</th>\n",
       "      <td>EMA_W_L1</td>\n",
       "      <td>19.849206</td>\n",
       "      <td>9.416667</td>\n",
       "      <td>14.632937</td>\n",
       "    </tr>\n",
       "    <tr>\n",
       "      <th>11</th>\n",
       "      <td>MA_L1</td>\n",
       "      <td>17.904762</td>\n",
       "      <td>11.694444</td>\n",
       "      <td>14.799603</td>\n",
       "    </tr>\n",
       "    <tr>\n",
       "      <th>2</th>\n",
       "      <td>Open_stationary_L3</td>\n",
       "      <td>5.452381</td>\n",
       "      <td>25.849206</td>\n",
       "      <td>15.650794</td>\n",
       "    </tr>\n",
       "    <tr>\n",
       "      <th>0</th>\n",
       "      <td>MA_2_L3</td>\n",
       "      <td>3.841270</td>\n",
       "      <td>27.853175</td>\n",
       "      <td>15.847222</td>\n",
       "    </tr>\n",
       "    <tr>\n",
       "      <th>7</th>\n",
       "      <td>MA_W_L2</td>\n",
       "      <td>10.928571</td>\n",
       "      <td>22.289683</td>\n",
       "      <td>16.609127</td>\n",
       "    </tr>\n",
       "    <tr>\n",
       "      <th>26</th>\n",
       "      <td>High_minus_Low_L3</td>\n",
       "      <td>28.996032</td>\n",
       "      <td>4.888889</td>\n",
       "      <td>16.942460</td>\n",
       "    </tr>\n",
       "    <tr>\n",
       "      <th>16</th>\n",
       "      <td>MA_2_L2</td>\n",
       "      <td>21.992063</td>\n",
       "      <td>15.003968</td>\n",
       "      <td>18.498016</td>\n",
       "    </tr>\n",
       "  </tbody>\n",
       "</table>\n",
       "</div>"
      ],
      "text/plain": [
       "               feature    index_x    index_y  mean_indexes\n",
       "3            Volume_L1   8.476190  14.075397     11.275794\n",
       "6              MA_W_L3  10.388889  12.329365     11.359127\n",
       "12           TRANGE_L3  18.480159   9.337302     13.908730\n",
       "14            EMA_W_L1  19.849206   9.416667     14.632937\n",
       "11               MA_L1  17.904762  11.694444     14.799603\n",
       "2   Open_stationary_L3   5.452381  25.849206     15.650794\n",
       "0              MA_2_L3   3.841270  27.853175     15.847222\n",
       "7              MA_W_L2  10.928571  22.289683     16.609127\n",
       "26   High_minus_Low_L3  28.996032   4.888889     16.942460\n",
       "16             MA_2_L2  21.992063  15.003968     18.498016"
      ]
     },
     "execution_count": 50,
     "metadata": {},
     "output_type": "execute_result"
    }
   ],
   "source": [
    "df2_gb.head(10)"
   ]
  },
  {
   "cell_type": "markdown",
   "metadata": {},
   "source": [
    "## Training-validation period 3"
   ]
  },
  {
   "cell_type": "code",
   "execution_count": 17,
   "metadata": {
    "ExecuteTime": {
     "end_time": "2021-01-04T03:47:22.791303Z",
     "start_time": "2021-01-04T02:42:39.709035Z"
    }
   },
   "outputs": [
    {
     "name": "stderr",
     "output_type": "stream",
     "text": [
      "100%|██████████████████████████████████████████████████████████████████████████████| 252/252 [1:04:43<00:00, 15.41s/it]\n"
     ]
    }
   ],
   "source": [
    "loc_list = list()\n",
    "scale_list = list()\n",
    "\n",
    "start = starts[2]\n",
    "df_tmp = df.loc[start:].head(252 * 4).copy()\n",
    "\n",
    "for i in tqdm(range(0, 252)):\n",
    "    train = df_tmp.iloc[i : i + 252 * 3].copy()\n",
    "    ngb = ngboost.NGBRegressor(\n",
    "        Dist=ngboost.distns.Normal,\n",
    "        Score=ngboost.scores.LogScore,\n",
    "        Base=DecisionTreeRegressor(criterion=\"friedman_mse\", max_depth=3),\n",
    "        n_estimators=500,\n",
    "        learning_rate=0.01,\n",
    "        minibatch_frac=1.0,\n",
    "        col_sample=1.0,\n",
    "        verbose=False,\n",
    "        verbose_eval=500,\n",
    "        tol=0.0001,\n",
    "        random_state=2021)\n",
    "    ngb.fit(train[features], train.rr)\n",
    "    \n",
    "    feature_importance_loc = ngb.feature_importances_[0]\n",
    "    feature_importance_scale = ngb.feature_importances_[1]\n",
    "    df_loc = pd.DataFrame({'feature':list(features),\n",
    "                           'importance':feature_importance_loc}).sort_values('importance',ascending=False)\n",
    "    df_scale = pd.DataFrame({'feature':list(features),\n",
    "                           'importance':feature_importance_scale}).sort_values('importance',ascending=False)    \n",
    "    df_loc[\"index\"] = np.arange(1,68)\n",
    "    df_loc.drop(columns=[\"importance\"], inplace=True)\n",
    "    df_scale[\"index\"] = np.arange(1,68)\n",
    "    df_scale.drop(columns=[\"importance\"], inplace=True)\n",
    "    loc_list.append(df_loc)\n",
    "    scale_list.append(df_scale)\n",
    "\n",
    "loc_df3 = pd.concat(loc_list)\n",
    "scale_df3 = pd.concat(scale_list)"
   ]
  },
  {
   "cell_type": "code",
   "execution_count": 46,
   "metadata": {
    "ExecuteTime": {
     "end_time": "2021-01-06T09:48:56.160084Z",
     "start_time": "2021-01-06T09:48:56.136112Z"
    }
   },
   "outputs": [],
   "source": [
    "loc_df3_gb = loc_df3.groupby(\"feature\").mean().sort_values(\"index\").reset_index()\n",
    "scale_df3_gb = scale_df3.groupby(\"feature\").mean().sort_values(\"index\").reset_index()\n",
    "df3_gb = pd.merge(loc_df3_gb, scale_df3_gb, on=\"feature\")\n",
    "df3_gb[\"mean_indexes\"] = (df3_gb.index_x + df3_gb.index_y)/3\n",
    "df3_gb.sort_values(\"mean_indexes\", inplace=True)"
   ]
  },
  {
   "cell_type": "code",
   "execution_count": 51,
   "metadata": {
    "ExecuteTime": {
     "end_time": "2021-01-06T09:49:33.566729Z",
     "start_time": "2021-01-06T09:49:33.542744Z"
    }
   },
   "outputs": [
    {
     "data": {
      "text/html": [
       "<div>\n",
       "<style scoped>\n",
       "    .dataframe tbody tr th:only-of-type {\n",
       "        vertical-align: middle;\n",
       "    }\n",
       "\n",
       "    .dataframe tbody tr th {\n",
       "        vertical-align: top;\n",
       "    }\n",
       "\n",
       "    .dataframe thead th {\n",
       "        text-align: right;\n",
       "    }\n",
       "</style>\n",
       "<table border=\"1\" class=\"dataframe\">\n",
       "  <thead>\n",
       "    <tr style=\"text-align: right;\">\n",
       "      <th></th>\n",
       "      <th>feature</th>\n",
       "      <th>index_x</th>\n",
       "      <th>index_y</th>\n",
       "      <th>mean_indexes</th>\n",
       "    </tr>\n",
       "  </thead>\n",
       "  <tbody>\n",
       "    <tr>\n",
       "      <th>1</th>\n",
       "      <td>ADOSC_L1</td>\n",
       "      <td>5.095238</td>\n",
       "      <td>7.357143</td>\n",
       "      <td>4.150794</td>\n",
       "    </tr>\n",
       "    <tr>\n",
       "      <th>2</th>\n",
       "      <td>ADOSC_L3</td>\n",
       "      <td>5.567460</td>\n",
       "      <td>8.035714</td>\n",
       "      <td>4.534392</td>\n",
       "    </tr>\n",
       "    <tr>\n",
       "      <th>7</th>\n",
       "      <td>Volume_L2</td>\n",
       "      <td>14.099206</td>\n",
       "      <td>8.047619</td>\n",
       "      <td>7.382275</td>\n",
       "    </tr>\n",
       "    <tr>\n",
       "      <th>13</th>\n",
       "      <td>OBV_L1</td>\n",
       "      <td>19.071429</td>\n",
       "      <td>3.448413</td>\n",
       "      <td>7.506614</td>\n",
       "    </tr>\n",
       "    <tr>\n",
       "      <th>18</th>\n",
       "      <td>Volume_L1</td>\n",
       "      <td>21.658730</td>\n",
       "      <td>3.388889</td>\n",
       "      <td>8.349206</td>\n",
       "    </tr>\n",
       "    <tr>\n",
       "      <th>11</th>\n",
       "      <td>High_minus_Low_L1</td>\n",
       "      <td>17.765873</td>\n",
       "      <td>9.849206</td>\n",
       "      <td>9.205026</td>\n",
       "    </tr>\n",
       "    <tr>\n",
       "      <th>22</th>\n",
       "      <td>TRANGE_L1</td>\n",
       "      <td>23.626984</td>\n",
       "      <td>7.396825</td>\n",
       "      <td>10.341270</td>\n",
       "    </tr>\n",
       "    <tr>\n",
       "      <th>0</th>\n",
       "      <td>ATR_L3</td>\n",
       "      <td>1.773810</td>\n",
       "      <td>30.250000</td>\n",
       "      <td>10.674603</td>\n",
       "    </tr>\n",
       "    <tr>\n",
       "      <th>27</th>\n",
       "      <td>High_minus_Low_L3</td>\n",
       "      <td>28.170635</td>\n",
       "      <td>6.472222</td>\n",
       "      <td>11.547619</td>\n",
       "    </tr>\n",
       "    <tr>\n",
       "      <th>24</th>\n",
       "      <td>EMA_W_L1</td>\n",
       "      <td>25.500000</td>\n",
       "      <td>10.777778</td>\n",
       "      <td>12.092593</td>\n",
       "    </tr>\n",
       "  </tbody>\n",
       "</table>\n",
       "</div>"
      ],
      "text/plain": [
       "              feature    index_x    index_y  mean_indexes\n",
       "1            ADOSC_L1   5.095238   7.357143      4.150794\n",
       "2            ADOSC_L3   5.567460   8.035714      4.534392\n",
       "7           Volume_L2  14.099206   8.047619      7.382275\n",
       "13             OBV_L1  19.071429   3.448413      7.506614\n",
       "18          Volume_L1  21.658730   3.388889      8.349206\n",
       "11  High_minus_Low_L1  17.765873   9.849206      9.205026\n",
       "22          TRANGE_L1  23.626984   7.396825     10.341270\n",
       "0              ATR_L3   1.773810  30.250000     10.674603\n",
       "27  High_minus_Low_L3  28.170635   6.472222     11.547619\n",
       "24           EMA_W_L1  25.500000  10.777778     12.092593"
      ]
     },
     "execution_count": 51,
     "metadata": {},
     "output_type": "execute_result"
    }
   ],
   "source": [
    "df3_gb.head(10)"
   ]
  },
  {
   "cell_type": "markdown",
   "metadata": {},
   "source": [
    "## Summarization for aforementioned periods - final feature choice"
   ]
  },
  {
   "cell_type": "code",
   "execution_count": 77,
   "metadata": {
    "ExecuteTime": {
     "end_time": "2021-01-06T10:53:54.507739Z",
     "start_time": "2021-01-06T10:53:54.495746Z"
    }
   },
   "outputs": [],
   "source": [
    "df_all_gb = pd.concat([df1_gb, df2_gb, df3_gb])\n",
    "df_all_gb = df_all_gb.groupby(\"feature\", as_index=False).mean().sort_values(\"mean_indexes\")\n",
    "features_left = df_all_gb.loc[df_all_gb.mean_indexes <= 25].feature.tolist()\n",
    "features_removed = df_all_gb.loc[df_all_gb.mean_indexes > 25].feature.tolist()"
   ]
  },
  {
   "cell_type": "code",
   "execution_count": 82,
   "metadata": {
    "ExecuteTime": {
     "end_time": "2021-01-06T10:54:42.397989Z",
     "start_time": "2021-01-06T10:54:42.392983Z"
    }
   },
   "outputs": [
    {
     "name": "stdout",
     "output_type": "stream",
     "text": [
      "['Volume_L1', 'OBV_L1', 'Volume_L2', 'EMA_W_L1', 'Open_stationary_L3', 'MA_L1', 'EMA_L1', 'MA_2_L3', 'MA_W_L2', 'MA_W_L3', 'Volume_L3', 'ATR_L2', 'OBV_L3', 'EMA_W_L3', 'ADOSC_L3', 'High_minus_Low_L3', 'MA_2_L2', 'STD_2_L1', 'TRANGE_L3', 'ADOSC_L1', 'High_stationary_L3', 'STD_W_L2', 'STD_L3', 'Low_stationary_L3', 'STD_L2', 'Low_stationary_L1', 'STD_2_L3']\n"
     ]
    }
   ],
   "source": [
    "print(features_left)"
   ]
  },
  {
   "cell_type": "code",
   "execution_count": 83,
   "metadata": {
    "ExecuteTime": {
     "end_time": "2021-01-06T10:54:42.774590Z",
     "start_time": "2021-01-06T10:54:42.770594Z"
    }
   },
   "outputs": [
    {
     "name": "stdout",
     "output_type": "stream",
     "text": [
      "['ATR_L3', 'STD_W_L3', 'OBV_L2', 'MA_W_L1', 'High_stationary_L1', 'EMA_W_L2', 'High_minus_Low_L1', 'STD_W_L1', 'day_of_year', 'MA_2_L1', 'TRANGE_L1', 'ATR_L1', 'MA_L3', 'STD_2_L2', 'Close_minus_Open_L1', 'High_minus_Low_L2', 'ADOSC_L2', 'EMA_2_L1', 'EMA_L2', 'Low_stationary_L2', 'Close_stationary_L1', 'STD_L1', 'rr_L1', 'TRANGE_L2', 'Open_stationary_L1', 'MA_L2', 'Close_stationary_L2', 'week', 'rr_L2', 'Open_stationary_L2', 'rr_L3', 'Close_minus_Open_L2', 'High_stationary_L2', 'Close_stationary_L3', 'EMA_2_L3', 'Close_minus_Open_L3', 'EMA_L3', 'EMA_2_L2', 'day_of_week', 'quarter']\n"
     ]
    }
   ],
   "source": [
    "print(features_removed)"
   ]
  },
  {
   "cell_type": "markdown",
   "metadata": {},
   "source": [
    "My own adjustment based on experience and EDA analysis"
   ]
  },
  {
   "cell_type": "code",
   "execution_count": 84,
   "metadata": {
    "ExecuteTime": {
     "end_time": "2021-01-06T10:56:41.436115Z",
     "start_time": "2021-01-06T10:56:41.424108Z"
    }
   },
   "outputs": [],
   "source": [
    "features_left.extend([\"rr_L1\", \"rr_L2\", \"rr_L3\"])"
   ]
  },
  {
   "cell_type": "code",
   "execution_count": 86,
   "metadata": {
    "ExecuteTime": {
     "end_time": "2021-01-06T10:56:51.174938Z",
     "start_time": "2021-01-06T10:56:51.168943Z"
    }
   },
   "outputs": [
    {
     "name": "stdout",
     "output_type": "stream",
     "text": [
      "['Volume_L1', 'OBV_L1', 'Volume_L2', 'EMA_W_L1', 'Open_stationary_L3', 'MA_L1', 'EMA_L1', 'MA_2_L3', 'MA_W_L2', 'MA_W_L3', 'Volume_L3', 'ATR_L2', 'OBV_L3', 'EMA_W_L3', 'ADOSC_L3', 'High_minus_Low_L3', 'MA_2_L2', 'STD_2_L1', 'TRANGE_L3', 'ADOSC_L1', 'High_stationary_L3', 'STD_W_L2', 'STD_L3', 'Low_stationary_L3', 'STD_L2', 'Low_stationary_L1', 'STD_2_L3', 'rr_L1', 'rr_L2', 'rr_L3']\n"
     ]
    }
   ],
   "source": [
    "print(features_left)"
   ]
  },
  {
   "cell_type": "code",
   "execution_count": 104,
   "metadata": {
    "ExecuteTime": {
     "end_time": "2021-01-06T11:18:44.042248Z",
     "start_time": "2021-01-06T11:18:44.024278Z"
    }
   },
   "outputs": [],
   "source": [
    "variables_left = features_left\n",
    "variables_left.insert(0, \"rr\")"
   ]
  },
  {
   "cell_type": "markdown",
   "metadata": {},
   "source": [
    "# Saving final dataset"
   ]
  },
  {
   "cell_type": "code",
   "execution_count": 107,
   "metadata": {
    "ExecuteTime": {
     "end_time": "2021-01-06T11:19:23.023837Z",
     "start_time": "2021-01-06T11:19:22.964871Z"
    }
   },
   "outputs": [],
   "source": [
    "df.dropna(inplace=True)\n",
    "df = df[variables_left]\n",
    "df.to_parquet(\"../dataset/spx_ngboost_final_dataset.parquet\")"
   ]
  }
 ],
 "metadata": {
  "kernelspec": {
   "display_name": "Python 3",
   "language": "python",
   "name": "python3"
  },
  "language_info": {
   "codemirror_mode": {
    "name": "ipython",
    "version": 3
   },
   "file_extension": ".py",
   "mimetype": "text/x-python",
   "name": "python",
   "nbconvert_exporter": "python",
   "pygments_lexer": "ipython3",
   "version": "3.7.3"
  },
  "toc": {
   "base_numbering": 1,
   "nav_menu": {},
   "number_sections": true,
   "sideBar": true,
   "skip_h1_title": false,
   "title_cell": "Table of Contents",
   "title_sidebar": "Contents",
   "toc_cell": false,
   "toc_position": {},
   "toc_section_display": true,
   "toc_window_display": false
  }
 },
 "nbformat": 4,
 "nbformat_minor": 4
}
